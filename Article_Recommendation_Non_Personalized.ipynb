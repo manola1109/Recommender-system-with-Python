{
  "nbformat": 4,
  "nbformat_minor": 0,
  "metadata": {
    "colab": {
      "provenance": [],
      "authorship_tag": "ABX9TyPyODviBJ9o37mUyHXl2PFh",
      "include_colab_link": true
    },
    "kernelspec": {
      "name": "python3",
      "display_name": "Python 3"
    },
    "language_info": {
      "name": "python"
    }
  },
  "cells": [
    {
      "cell_type": "markdown",
      "metadata": {
        "id": "view-in-github",
        "colab_type": "text"
      },
      "source": [
        "<a href=\"https://colab.research.google.com/github/manola1109/Recommender-system-with-Python/blob/main/Article_Recommendation_Non_Personalized.ipynb\" target=\"_parent\"><img src=\"https://colab.research.google.com/assets/colab-badge.svg\" alt=\"Open In Colab\"/></a>"
      ]
    },
    {
      "cell_type": "code",
      "execution_count": 1,
      "metadata": {
        "colab": {
          "base_uri": "https://localhost:8080/"
        },
        "id": "Fcvo4EZ18sHJ",
        "outputId": "042c3224-2d67-4a2b-d92f-c4fe483345b3"
      },
      "outputs": [
        {
          "output_type": "stream",
          "name": "stdout",
          "text": [
            "Q1: Top 10 articles based on average rating (with >= 5% user ratings):\n",
            "      article_id  rating_count  average_rating\n",
            "488          580            48        1.833333\n",
            "1067        1249            58        1.706897\n",
            "2364        2781            60        1.700000\n",
            "1220        1433            61        1.639344\n",
            "820          967           122        1.442623\n",
            "182          221            64        1.421875\n",
            "521          618            50        1.420000\n",
            "1496        1755            54        1.407407\n",
            "382          456            69        1.391304\n",
            "2036        2388            52        1.384615\n",
            "\n",
            "Q2: Top 10 most read articles with average rating > 1.5:\n",
            "      article_id  rating_count  average_rating\n",
            "1220        1433            61        1.639344\n",
            "2364        2781            60        1.700000\n",
            "1067        1249            58        1.706897\n",
            "488          580            48        1.833333\n",
            "2012        2361            42        1.523810\n",
            "1163        1366            41        1.731707\n",
            "1858        2178            38        1.578947\n",
            "1918        2248            35        1.514286\n",
            "1460        1716            34        1.794118\n",
            "1372        1614            33        1.515152\n",
            "\n",
            "Q3: Top 10 articles based on weighted rating:\n",
            "      article_id  rating_count  average_rating  weighted_rating\n",
            "199          239             2        5.000000         3.226974\n",
            "1944        2283             2        5.000000         3.226974\n",
            "1826        2141             4        4.000000         3.151316\n",
            "107          129             4        4.000000         3.151316\n",
            "2363        2779             6        3.666667         3.113487\n",
            "789          931             8        3.500000         3.090790\n",
            "617          739             3        4.000000         2.981579\n",
            "18            24             3        4.000000         2.981579\n",
            "729          861             2        4.500000         2.976974\n",
            "1774        2079             6        3.333333         2.863487\n"
          ]
        }
      ],
      "source": [
        "import pandas as pd\n",
        "\n",
        "# Load the dataset\n",
        "df = pd.read_csv(\"train.csv\")\n",
        "\n",
        "# Total number of unique users\n",
        "total_users = df['user_id'].nunique()\n",
        "threshold = total_users * 0.05  # 5% of users\n",
        "\n",
        "# Group by article to get count and average rating\n",
        "article_stats = df.groupby('article_id').agg(\n",
        "    rating_count=('rating', 'count'),\n",
        "    average_rating=('rating', 'mean')\n",
        ").reset_index()\n",
        "\n",
        "### Q1: Top 10 Articles by Average Rating (rated by at least 5% of users)\n",
        "q1_df = article_stats[article_stats['rating_count'] >= threshold]\n",
        "q1_top_10 = q1_df.sort_values(by='average_rating', ascending=False).head(10)\n",
        "print(\"Q1: Top 10 articles based on average rating (with >= 5% user ratings):\")\n",
        "print(q1_top_10)\n",
        "\n",
        "### Q2: Most Read 10 Articles (average rating > 1.5)\n",
        "q2_df = article_stats[article_stats['average_rating'] > 1.5]\n",
        "q2_top_10 = q2_df.sort_values(by='rating_count', ascending=False).head(10)\n",
        "print(\"\\nQ2: Top 10 most read articles with average rating > 1.5:\")\n",
        "print(q2_top_10)\n",
        "\n",
        "### Q3: Top 10 Articles by Weighted Rating\n",
        "C = df['rating'].mean()  # Mean rating across all articles\n",
        "m = 2  # Minimum number of ratings required\n",
        "\n",
        "# Compute weighted rating\n",
        "article_stats['weighted_rating'] = (\n",
        "    (article_stats['average_rating'] * article_stats['rating_count'] + C * m) /\n",
        "    (article_stats['rating_count'] + m)\n",
        ")\n",
        "\n",
        "q3_df = article_stats[article_stats['rating_count'] >= m]\n",
        "q3_top_10 = q3_df.sort_values(by='weighted_rating', ascending=False).head(10)\n",
        "print(\"\\nQ3: Top 10 articles based on weighted rating:\")\n",
        "print(q3_top_10)\n"
      ]
    }
  ]
}