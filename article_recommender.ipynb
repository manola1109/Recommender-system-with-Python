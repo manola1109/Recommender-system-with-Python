{
  "cells": [
    {
      "cell_type": "markdown",
      "metadata": {
        "id": "view-in-github",
        "colab_type": "text"
      },
      "source": [
        "<a href=\"https://colab.research.google.com/github/manola1109/Recommender-system-with-Python/blob/main/article_recommender.ipynb\" target=\"_parent\"><img src=\"https://colab.research.google.com/assets/colab-badge.svg\" alt=\"Open In Colab\"/></a>"
      ]
    },
    {
      "cell_type": "markdown",
      "id": "8a3797d3",
      "metadata": {
        "id": "8a3797d3"
      },
      "source": [
        "# 📚 Article Recommender System\n",
        "This notebook implements User-Based, Item-Based, and Matrix Factorization (SVD) Collaborative Filtering methods to predict user-article ratings."
      ]
    },
    {
      "cell_type": "code",
      "execution_count": 11,
      "id": "be6f7210",
      "metadata": {
        "colab": {
          "base_uri": "https://localhost:8080/"
        },
        "id": "be6f7210",
        "outputId": "0caef69d-bc08-452b-cc9c-e72aa7f5055b"
      },
      "outputs": [
        {
          "output_type": "stream",
          "name": "stdout",
          "text": [
            "Validation RMSE Score: 0.6047\n",
            "Submission file 'submission.csv' generated.\n"
          ]
        }
      ],
      "source": [
        "import pandas as pd\n",
        "import numpy as np\n",
        "from sklearn.metrics.pairwise import cosine_similarity\n",
        "from sklearn.metrics import mean_squared_error\n",
        "from sklearn.model_selection import train_test_split\n",
        "from scipy.sparse.linalg import svds\n",
        "import warnings\n",
        "warnings.filterwarnings('ignore')\n",
        "\n",
        "# -----------------------------\n",
        "# Step 1: Load Data\n",
        "# -----------------------------\n",
        "train = pd.read_csv('train.csv')\n",
        "articles = pd.read_csv('article_info.csv')\n",
        "test = pd.read_csv('test.csv')\n",
        "\n",
        "# Create user-item matrix\n",
        "ratings_matrix = train.pivot(index='user_id', columns='article_id', values='rating')\n",
        "ratings_matrix_filled = ratings_matrix.fillna(0)\n",
        "\n",
        "# -----------------------------\n",
        "# Step 2: User-Based CF\n",
        "# -----------------------------\n",
        "user_similarity = cosine_similarity(ratings_matrix_filled)\n",
        "user_similarity_df = pd.DataFrame(user_similarity, index=ratings_matrix.index, columns=ratings_matrix.index)\n",
        "\n",
        "def predict_user_based(user_id, article_id):\n",
        "    if article_id not in ratings_matrix.columns:\n",
        "        return 3.0\n",
        "    sim_scores = user_similarity_df[user_id]\n",
        "    ratings = ratings_matrix[article_id]\n",
        "    mask = ratings.notna()\n",
        "    if mask.sum() == 0:\n",
        "        return 3.0\n",
        "    sim_scores = sim_scores[mask]\n",
        "    ratings = ratings[mask]\n",
        "    pred = np.dot(sim_scores, ratings) / sim_scores.sum()\n",
        "    return pred\n",
        "\n",
        "# -----------------------------\n",
        "# Step 3: Item-Based CF\n",
        "# -----------------------------\n",
        "item_similarity = cosine_similarity(ratings_matrix_filled.T)\n",
        "item_similarity_df = pd.DataFrame(item_similarity, index=ratings_matrix.columns, columns=ratings_matrix.columns)\n",
        "\n",
        "def predict_item_based(user_id, article_id):\n",
        "    if article_id not in ratings_matrix.columns:\n",
        "        return 3.0\n",
        "    user_ratings = ratings_matrix.loc[user_id]\n",
        "    mask = user_ratings.notna()\n",
        "    if mask.sum() == 0:\n",
        "        return 3.0\n",
        "    sim_scores = item_similarity_df[article_id][mask]\n",
        "    ratings = user_ratings[mask]\n",
        "    pred = np.dot(sim_scores, ratings) / sim_scores.sum()\n",
        "    return pred\n",
        "\n",
        "# -----------------------------\n",
        "# Step 4: Matrix Factorization (SVD)\n",
        "# -----------------------------\n",
        "ratings_filled = ratings_matrix.fillna(0)\n",
        "U, sigma, Vt = svds(ratings_filled.values, k=50)\n",
        "sigma = np.diag(sigma)\n",
        "pred_ratings = np.dot(np.dot(U, sigma), Vt)\n",
        "svd_preds = pd.DataFrame(pred_ratings, index=ratings_matrix.index, columns=ratings_matrix.columns)\n",
        "\n",
        "def predict_svd(user_id, article_id):\n",
        "    try:\n",
        "        return svd_preds.loc[user_id, article_id]\n",
        "    except:\n",
        "        return 3.0\n",
        "\n",
        "# -----------------------------\n",
        "# Step 5: RMSE Evaluation on Validation Set\n",
        "# -----------------------------\n",
        "train_set, val_set = train_test_split(train, test_size=0.2, random_state=42)\n",
        "\n",
        "val_preds = []\n",
        "val_truth = []\n",
        "\n",
        "for _, row in val_set.iterrows():\n",
        "    uid = row['user_id']\n",
        "    aid = row['article_id']\n",
        "    true_rating = row['rating']\n",
        "\n",
        "    user_cf = predict_user_based(uid, aid)\n",
        "    item_cf = predict_item_based(uid, aid)\n",
        "    svd_cf = predict_svd(uid, aid)\n",
        "\n",
        "    final_rating = np.mean([user_cf, item_cf, svd_cf])\n",
        "    val_preds.append(final_rating)\n",
        "    val_truth.append(true_rating)\n",
        "\n",
        "rmse_score = np.sqrt(mean_squared_error(val_truth, val_preds)) # Calculate RMSE manually using NumPy\n",
        "print(f\"Validation RMSE Score: {rmse_score:.4f}\")\n",
        "\n",
        "# -----------------------------\n",
        "# Step 6: Make Predictions on Test Set\n",
        "# -----------------------------\n",
        "predictions = []\n",
        "for _, row in test.iterrows():\n",
        "    uid = row['user_id']\n",
        "    aid = row['article_id']\n",
        "\n",
        "    user_cf = predict_user_based(uid, aid)\n",
        "    item_cf = predict_item_based(uid, aid)\n",
        "    svd_cf = predict_svd(uid, aid)\n",
        "\n",
        "    final_rating = np.mean([user_cf, item_cf, svd_cf])\n",
        "    predictions.append([uid, aid, final_rating])\n",
        "\n",
        "# -----------------------------\n",
        "# Step 7: Save Predictions\n",
        "# -----------------------------\n",
        "submission = pd.DataFrame(predictions, columns=['user_id', 'article_id', 'rating'])\n",
        "submission.to_csv('submission.csv', index=False)\n",
        "print(\"Submission file 'submission.csv' generated.\")\n"
      ]
    }
  ],
  "metadata": {
    "colab": {
      "provenance": [],
      "include_colab_link": true
    },
    "language_info": {
      "name": "python"
    },
    "kernelspec": {
      "name": "python3",
      "display_name": "Python 3"
    }
  },
  "nbformat": 4,
  "nbformat_minor": 5
}